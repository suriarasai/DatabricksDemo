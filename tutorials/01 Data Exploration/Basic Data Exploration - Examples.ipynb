{
 "cells": [
  {
   "cell_type": "markdown",
   "metadata": {
    "application/vnd.databricks.v1+cell": {
     "cellMetadata": {},
     "inputWidgets": {},
     "nuid": "e1f2307e-b757-4fee-8426-ab64a41dfe1b",
     "showTitle": false,
     "tableResultSettingsMap": {},
     "title": ""
    }
   },
   "source": [
    "# Databricks notebook source\n",
    "# Basic Data Exploration Tutorial\n",
    " \n",
    "This tutorial demonstrates how to load, explore, and understand datasets using Databricks Free Edition.\n",
    " ## Learning Objectives\n",
    " - Load data from various sources\n",
    " - Explore data structure and characteristics\n",
    " - Perform basic statistical analysis\n",
    " - Handle common data quality issues"
   ]
  },
  {
   "cell_type": "code",
   "execution_count": 0,
   "metadata": {
    "application/vnd.databricks.v1+cell": {
     "cellMetadata": {
      "byteLimit": 2048000,
      "rowLimit": 10000
     },
     "inputWidgets": {},
     "nuid": "9650328e-6d92-4b46-90c0-6683be7955ab",
     "showTitle": false,
     "tableResultSettingsMap": {},
     "title": ""
    }
   },
   "outputs": [],
   "source": [
    "import pandas as pd\n",
    "import numpy as np\n",
    "from pyspark.sql import SparkSession\n",
    "from pyspark.sql.functions import *\n",
    "from pyspark.sql.types import *\n",
    "import matplotlib.pyplot as plt\n",
    "import seaborn as sns"
   ]
  },
  {
   "cell_type": "markdown",
   "metadata": {
    "application/vnd.databricks.v1+cell": {
     "cellMetadata": {},
     "inputWidgets": {},
     "nuid": "e045de7c-c5b9-4f57-ba25-bb775df9a841",
     "showTitle": false,
     "tableResultSettingsMap": {},
     "title": ""
    }
   },
   "source": []
  },
  {
   "cell_type": "code",
   "execution_count": 0,
   "metadata": {
    "application/vnd.databricks.v1+cell": {
     "cellMetadata": {
      "byteLimit": 2048000,
      "rowLimit": 10000
     },
     "inputWidgets": {},
     "nuid": "eac1e229-80d0-4eac-ada6-42848e5a4193",
     "showTitle": false,
     "tableResultSettingsMap": {},
     "title": ""
    }
   },
   "outputs": [],
   "source": [
    "# Initialize Spark session (already available in Databricks)\n",
    "spark = SparkSession.builder.appName(\"DataExploration\").getOrCreate()\n",
    "\n",
    "print(\"Spark version:\", spark.version)\n",
    "print(\"Python libraries loaded successfully!\")"
   ]
  },
  {
   "cell_type": "markdown",
   "metadata": {
    "application/vnd.databricks.v1+cell": {
     "cellMetadata": {},
     "inputWidgets": {},
     "nuid": "1e561214-c0ce-4376-99b7-e3f2c99af268",
     "showTitle": false,
     "tableResultSettingsMap": {},
     "title": ""
    }
   },
   "source": []
  },
  {
   "cell_type": "code",
   "execution_count": 0,
   "metadata": {
    "application/vnd.databricks.v1+cell": {
     "cellMetadata": {
      "byteLimit": 2048000,
      "rowLimit": 10000
     },
     "inputWidgets": {},
     "nuid": "487743f5-349d-4947-bee4-1508a65228c8",
     "showTitle": false,
     "tableResultSettingsMap": {},
     "title": ""
    }
   },
   "outputs": [],
   "source": [
    "# Generate sample data\n",
    "n_records = 1000\n",
    "dates = pd.date_range('2023-01-01', periods=n_records, freq='D')\n",
    "products = ['Laptop', 'Mouse', 'Keyboard', 'Monitor', 'Tablet', 'Phone']\n",
    "regions = ['North', 'South', 'East', 'West']\n",
    "sales_reps = [f'Rep_{i}' for i in range(1, 21)]"
   ]
  },
  {
   "cell_type": "code",
   "execution_count": 0,
   "metadata": {
    "application/vnd.databricks.v1+cell": {
     "cellMetadata": {
      "byteLimit": 2048000,
      "rowLimit": 10000
     },
     "inputWidgets": {},
     "nuid": "6e8ac8b3-4642-4427-af18-b1877de863f5",
     "showTitle": false,
     "tableResultSettingsMap": {},
     "title": ""
    }
   },
   "outputs": [],
   "source": [
    "# Create DataFrame\n",
    "sales_data = pd.DataFrame({\n",
    "    'date': np.random.choice(dates, n_records),\n",
    "    'product': np.random.choice(products, n_records),\n",
    "    'region': np.random.choice(regions, n_records),\n",
    "    'sales_rep': np.random.choice(sales_reps, n_records),\n",
    "    'quantity': np.random.randint(1, 100, n_records),\n",
    "    'unit_price': np.random.uniform(10, 1000, n_records).round(2),\n",
    "    'customer_satisfaction': np.random.uniform(1, 5, n_records).round(1)\n",
    "})\n"
   ]
  },
  {
   "cell_type": "code",
   "execution_count": 0,
   "metadata": {
    "application/vnd.databricks.v1+cell": {
     "cellMetadata": {
      "byteLimit": 2048000,
      "rowLimit": 10000
     },
     "inputWidgets": {},
     "nuid": "60996194-51ac-4d5b-8d83-629643c36c94",
     "showTitle": false,
     "tableResultSettingsMap": {},
     "title": ""
    }
   },
   "outputs": [],
   "source": [
    "# Calculate total sales\n",
    "sales_data['total_sales'] = sales_data['quantity'] * sales_data['unit_price']"
   ]
  },
  {
   "cell_type": "code",
   "execution_count": 0,
   "metadata": {
    "application/vnd.databricks.v1+cell": {
     "cellMetadata": {},
     "inputWidgets": {},
     "nuid": "8b82c1cc-c5b6-482a-982a-3084289ff757",
     "showTitle": false,
     "tableResultSettingsMap": {},
     "title": ""
    }
   },
   "outputs": [],
   "source": []
  },
  {
   "cell_type": "code",
   "execution_count": 0,
   "metadata": {
    "application/vnd.databricks.v1+cell": {
     "cellMetadata": {
      "byteLimit": 2048000,
      "rowLimit": 10000
     },
     "inputWidgets": {},
     "nuid": "697208d1-e28f-4aee-9139-8390934e13d0",
     "showTitle": false,
     "tableResultSettingsMap": {},
     "title": ""
    }
   },
   "outputs": [],
   "source": [
    "# Convert to Spark DataFrame\n",
    "df = spark.createDataFrame(sales_data)\n",
    "\n",
    "print(f\"Created dataset with {df.count()} records\")\n",
    "df.show(5)"
   ]
  }
 ],
 "metadata": {
  "application/vnd.databricks.v1+notebook": {
   "computePreferences": null,
   "dashboards": [],
   "environmentMetadata": {
    "base_environment": "",
    "environment_version": "3"
   },
   "inputWidgetPreferences": null,
   "language": "python",
   "notebookMetadata": {
    "pythonIndentUnit": 4
   },
   "notebookName": "Basic Data Exploration - Examples",
   "widgets": {}
  },
  "language_info": {
   "name": "python"
  }
 },
 "nbformat": 4,
 "nbformat_minor": 0
}
